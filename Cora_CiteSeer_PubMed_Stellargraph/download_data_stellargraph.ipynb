{
 "cells": [
  {
   "cell_type": "code",
   "execution_count": 89,
   "id": "7dd00062",
   "metadata": {},
   "outputs": [],
   "source": [
    "# verify that we're using the correct version of StellarGraph for this notebook\n",
    "import stellargraph as sg\n",
    "\n",
    "try:\n",
    "    sg.utils.validate_notebook_version(\"1.2.1\")\n",
    "except AttributeError:\n",
    "    raise ValueError(\n",
    "        f\"This notebook requires StellarGraph version 1.2.1, but a different version {sg.__version__} is installed.  Please see <https://github.com/stellargraph/stellargraph/issues/1172>.\"\n",
    "    ) from None"
   ]
  },
  {
   "cell_type": "code",
   "execution_count": 90,
   "id": "70db050d",
   "metadata": {},
   "outputs": [],
   "source": [
    "import matplotlib.pyplot as plt\n",
    "from math import isclose\n",
    "from sklearn.decomposition import PCA\n",
    "import os\n",
    "import networkx as nx\n",
    "import numpy as np\n",
    "import pandas as pd\n",
    "from stellargraph import StellarGraph, datasets\n",
    "from stellargraph.data import EdgeSplitter\n",
    "from collections import Counter\n",
    "import multiprocessing\n",
    "from IPython.display import display, HTML\n",
    "from sklearn.model_selection import train_test_split\n",
    "from scipy import sparse\n",
    "\n",
    "\n",
    "import pickle5 as pickle\n",
    "import math\n",
    "from sklearn.model_selection import train_test_split\n",
    "from sklearn.neighbors import KNeighborsClassifier\n",
    "from sklearn.pipeline import make_pipeline\n",
    "from sklearn.preprocessing import StandardScaler\n",
    "from sklearn.svm import SVC\n",
    "from collections import defaultdict\n",
    "from scipy import sparse\n",
    "\n",
    "%matplotlib inline"
   ]
  },
  {
   "cell_type": "code",
   "execution_count": 91,
   "id": "17433362",
   "metadata": {},
   "outputs": [
    {
     "data": {
      "text/html": [
       "The Cora dataset consists of 2708 scientific publications classified into one of seven classes. The citation network consists of 5429 links. Each publication in the dataset is described by a 0/1-valued word vector indicating the absence/presence of the corresponding word from the dictionary. The dictionary consists of 1433 unique words."
      ],
      "text/plain": [
       "<IPython.core.display.HTML object>"
      ]
     },
     "metadata": {},
     "output_type": "display_data"
    }
   ],
   "source": [
    "# Get dataset from stellargraph\n",
    "dataset = datasets.Cora()\n",
    "display(HTML(dataset.description))\n",
    "# graph, _ = dataset.load(largest_connected_component_only=True, str_node_ids=True)\n",
    "graph, _ = dataset.load(largest_connected_component_only=True)"
   ]
  },
  {
   "cell_type": "code",
   "execution_count": 92,
   "id": "c5d2e958",
   "metadata": {},
   "outputs": [],
   "source": [
    "nodeFeatures = graph.node_features(nodes=None)\n",
    "features = sparse.csr_matrix(nodeFeatures)\n",
    "adj = graph.to_adjacency_matrix(nodes=None)"
   ]
  },
  {
   "cell_type": "code",
   "execution_count": 93,
   "id": "cf56235e",
   "metadata": {},
   "outputs": [],
   "source": [
    "# make nx graph from scipy matrix\n",
    "nxGraph = nx.from_scipy_sparse_array(adj, parallel_edges=False, create_using=nx.MultiGraph)\n",
    "\n",
    "# add features to nx graph\n",
    "for node_id, node_data in nxGraph.nodes(data=True):\n",
    "    node_feature = features[node_id].todense()\n",
    "    node_data[\"feature\"] = np.squeeze(np.asarray(node_feature)) # convert to 1D matrix to array\n",
    "\n",
    "# make StellarGraph from nx graph\n",
    "sgGraph = StellarGraph.from_networkx(nxGraph, node_type_default=\"paper\", edge_type_default=\"cites\", node_features=\"feature\")"
   ]
  },
  {
   "cell_type": "code",
   "execution_count": 94,
   "id": "f9bebd2e",
   "metadata": {},
   "outputs": [],
   "source": [
    "data_name = 'cora'\n",
    "hop_count = 0"
   ]
  },
  {
   "cell_type": "code",
   "execution_count": 95,
   "id": "e3882fb3",
   "metadata": {},
   "outputs": [
    {
     "name": "stdout",
     "output_type": "stream",
     "text": [
      "stellargraph original cora graph\n",
      "StellarGraph: Undirected multigraph\n",
      " Nodes: 2485, Edges: 5209\n",
      "\n",
      " Node types:\n",
      "  paper: [2485]\n",
      "    Features: float32 vector, length 1433\n",
      "    Edge types: paper-cites->paper\n",
      "\n",
      " Edge types:\n",
      "    paper-cites->paper: [5209]\n",
      "        Weights: all 1 (default)\n",
      "        Features: none\n",
      "-----------------------------------\n",
      "converted cora graph\n",
      "StellarGraph: Undirected multigraph\n",
      " Nodes: 2485, Edges: 5069\n",
      "\n",
      " Node types:\n",
      "  paper: [2485]\n",
      "    Features: float32 vector, length 1433\n",
      "    Edge types: paper-cites->paper\n",
      "\n",
      " Edge types:\n",
      "    paper-cites->paper: [5069]\n",
      "        Weights: range=[1, 2], mean=1.02762, std=0.163894\n",
      "        Features: none\n"
     ]
    }
   ],
   "source": [
    "print(\"stellargraph original cora graph\")\n",
    "print(graph.info())\n",
    "\n",
    "print(\"-----------------------------------\")\n",
    "print(\"converted cora graph\")\n",
    "print(sgGraph.info())"
   ]
  },
  {
   "cell_type": "code",
   "execution_count": 101,
   "id": "40b1f06b",
   "metadata": {},
   "outputs": [
    {
     "name": "stdout",
     "output_type": "stream",
     "text": [
      "45487.0\n",
      "45487.0\n",
      "True\n"
     ]
    }
   ],
   "source": [
    "# compare node features\n",
    "f1 = graph.node_features(nodes=None)\n",
    "f2 = sgGraph.node_features(nodes=None)\n",
    "\n",
    "print(np.sum(f1))\n",
    "print(np.sum(f2))\n",
    "\n",
    "comparison = f1 == f2\n",
    "equal_arrays = comparison.all()\n",
    "print(equal_arrays)"
   ]
  }
 ],
 "metadata": {
  "kernelspec": {
   "display_name": "Python 3 (ipykernel)",
   "language": "python",
   "name": "python3"
  },
  "language_info": {
   "codemirror_mode": {
    "name": "ipython",
    "version": 3
   },
   "file_extension": ".py",
   "mimetype": "text/x-python",
   "name": "python",
   "nbconvert_exporter": "python",
   "pygments_lexer": "ipython3",
   "version": "3.8.16"
  }
 },
 "nbformat": 4,
 "nbformat_minor": 5
}
