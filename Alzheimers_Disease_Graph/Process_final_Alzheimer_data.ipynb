{
 "cells": [
  {
   "cell_type": "code",
   "execution_count": 2,
   "id": "8fe5ae8a",
   "metadata": {},
   "outputs": [],
   "source": [
    "# All imports\n",
    "import pandas as pd\n",
    "import glob\n",
    "import os\n",
    "import networkx as nx\n",
    "import pickle\n",
    "import numpy as np\n",
    "from scipy import sparse\n",
    "import seaborn as sns\n",
    "import matplotlib.pyplot as plt\n",
    "import scipy.stats as stats"
   ]
  },
  {
   "cell_type": "code",
   "execution_count": 3,
   "id": "b6f77850",
   "metadata": {},
   "outputs": [
    {
     "name": "stdout",
     "output_type": "stream",
     "text": [
      "edgesDf shape (559147, 2)\n",
      "nodesDf shape (7751, 18)\n"
     ]
    }
   ],
   "source": [
    "# read data from CSV files\n",
    "edgesFile = 'Raw/edges.csv'\n",
    "nodesFile = 'Raw/nodes.csv'\n",
    "\n",
    "edgesDf = pd.read_csv(edgesFile, sep=',')\n",
    "edgesDf = edgesDf[[\"source\", \"sink\"]]\n",
    "print('edgesDf shape', edgesDf.shape)\n",
    "\n",
    "nodesDf = pd.read_csv(nodesFile, sep=',')\n",
    "print('nodesDf shape', nodesDf.shape)"
   ]
  },
  {
   "cell_type": "code",
   "execution_count": 4,
   "id": "c523d4e0",
   "metadata": {},
   "outputs": [
    {
     "name": "stdout",
     "output_type": "stream",
     "text": [
      "features shape (5253, 4)\n",
      "        id  jaccard_similarity          pval chromosome\n",
      "3        3            0.004432           NaN          2\n",
      "4        4            0.002947  4.000000e-08         16\n",
      "5        5            0.013490  2.000000e-18         11\n",
      "7        7            0.012022  1.000000e-09         15\n",
      "10      10            0.000247  1.000000e-58  GCST00732\n",
      "...    ...                 ...           ...        ...\n",
      "7713  7713            0.002464  3.000000e-08         18\n",
      "7714  7714            0.001723  5.000000e-08         19\n",
      "7715  7715            0.001719  8.000000e-11  GCST00732\n",
      "7716  7716            0.013771  1.000000e-18          1\n",
      "7717  7717            0.000493  2.000000e-10          1\n",
      "\n",
      "[5253 rows x 4 columns]\n"
     ]
    }
   ],
   "source": [
    "# convert pval to float and use NaN for non numeric values\n",
    "nodesDf['pval'] = pd.to_numeric(nodesDf['pval'], errors='coerce')\n",
    "\n",
    "# remove nodes with empty or non-numeric pval\n",
    "# nodesPvalDf = nodesDf[nodesDf['pval'].notna()]\n",
    "# print('nodesPvalDf shape', nodesPvalDf.shape)\n",
    "\n",
    "# construct dataframe with the selected features\n",
    "features = nodesDf[['id', 'jaccard_similarity', 'pval', 'chromosome']]\n",
    "\n",
    "# filter out nan chromosome and jaccard_similarity\n",
    "features = features[features['chromosome'].notna()]\n",
    "features = features[features['jaccard_similarity'].notna()]\n",
    "\n",
    "print('features shape', features.shape)\n",
    "print(features)"
   ]
  },
  {
   "cell_type": "code",
   "execution_count": 6,
   "id": "b6486da7",
   "metadata": {},
   "outputs": [
    {
     "name": "stdout",
     "output_type": "stream",
     "text": [
      "chromosome count \n",
      " 14.0    442\n",
      "1.0     441\n",
      "19.0    375\n",
      "11.0    298\n",
      "2.0     296\n",
      "21.0    293\n",
      "7.0     290\n",
      "3.0     260\n",
      "10.0    257\n",
      "17.0    243\n",
      "5.0     236\n",
      "6.0     220\n",
      "12.0    214\n",
      "15.0    190\n",
      "8.0     174\n",
      "4.0     160\n",
      "9.0     141\n",
      "16.0    135\n",
      "13.0     87\n",
      "20.0     80\n",
      "18.0     63\n",
      "22.0     59\n",
      "23.0     26\n",
      "24.0      2\n",
      "Name: chromosome, dtype: int64\n",
      "features.shape (4982, 4)\n",
      "chromosome count after filter \n",
      " chromosome\n",
      "1.0     441\n",
      "2.0     296\n",
      "3.0     260\n",
      "4.0     160\n",
      "5.0     236\n",
      "6.0     220\n",
      "7.0     290\n",
      "8.0     174\n",
      "9.0     141\n",
      "10.0    257\n",
      "11.0    298\n",
      "12.0    214\n",
      "13.0     87\n",
      "14.0    442\n",
      "15.0    190\n",
      "16.0    135\n",
      "17.0    243\n",
      "18.0     63\n",
      "19.0    375\n",
      "20.0     80\n",
      "21.0    293\n",
      "22.0     59\n",
      "23.0     26\n",
      "24.0      2\n",
      "Name: id, dtype: int64\n"
     ]
    }
   ],
   "source": [
    "print('chromosome count \\n', features.chromosome.value_counts())\n",
    "\n",
    "# clean up invalid chromosome\n",
    "\n",
    "features.loc[features['chromosome'] == 'X', 'chromosome'] = '23'\n",
    "features.loc[features['chromosome'] == 'Y', 'chromosome'] = '24'\n",
    "\n",
    "# convert chromosome to number and use NaN for non numeric values\n",
    "features['chromosome'] = pd.to_numeric(features['chromosome'], errors='coerce')\n",
    "# remove nodes with empty or non-numeric chromosome\n",
    "features = features[features['chromosome'].notna()]\n",
    "print('features.shape', features.shape)\n",
    "\n",
    "# count number of rows by chromosome\n",
    "print('chromosome count after filter \\n', features.groupby('chromosome')['id'].nunique())"
   ]
  },
  {
   "cell_type": "code",
   "execution_count": 7,
   "id": "2cfa2ff7",
   "metadata": {},
   "outputs": [
    {
     "name": "stdout",
     "output_type": "stream",
     "text": [
      "        id  jaccard_similarity          pval  chromosome\n",
      "3        3            0.004432  2.000000e+00         2.0\n",
      "4        4            0.002947  4.000000e-08        16.0\n",
      "7        7            0.012022  1.000000e-09        15.0\n",
      "20      20            0.004910  2.000000e+00         6.0\n",
      "21      21            0.005878  2.000000e+00         6.0\n",
      "...    ...                 ...           ...         ...\n",
      "7707  7707            0.000737  3.000000e-08         7.0\n",
      "7711  7711            0.004177  2.000000e-09         7.0\n",
      "7713  7713            0.002464  3.000000e-08        18.0\n",
      "7714  7714            0.001723  5.000000e-08        19.0\n",
      "7717  7717            0.000493  2.000000e-10         1.0\n",
      "\n",
      "[4780 rows x 4 columns]\n",
      "        id  jaccard_similarity          pval  chromosome\n",
      "3        3            0.004432           NaN         2.0\n",
      "4        4            0.002947  4.000000e-08        16.0\n",
      "7        7            0.012022  1.000000e-09        15.0\n",
      "20      20            0.004910           NaN         6.0\n",
      "21      21            0.005878           NaN         6.0\n",
      "...    ...                 ...           ...         ...\n",
      "7707  7707            0.000737  3.000000e-08         7.0\n",
      "7711  7711            0.004177  2.000000e-09         7.0\n",
      "7713  7713            0.002464  3.000000e-08        18.0\n",
      "7714  7714            0.001723  5.000000e-08        19.0\n",
      "7717  7717            0.000493  2.000000e-10         1.0\n",
      "\n",
      "[4780 rows x 4 columns]\n"
     ]
    }
   ],
   "source": [
    "# Replace NaN with 2 temporarily\n",
    "features['pval'] = features['pval'].fillna(2)\n",
    "\n",
    "# remove the outliers\n",
    "features = features[features['pval'] >= 1e-10]\n",
    "print(features)\n",
    "\n",
    "# replace all two's of 'pval' with NaN values\n",
    "features['pval'] = features['pval'].replace(2, np.nan)\n",
    "print(features)"
   ]
  },
  {
   "cell_type": "code",
   "execution_count": 8,
   "id": "a5728b49",
   "metadata": {},
   "outputs": [],
   "source": [
    "# sort by node_id\n",
    "features = features.sort_values(by=['id'])\n",
    "\n",
    "# seperate predicting attribute from input feature\n",
    "predicting_attr = features['pval']\n",
    "features = features.drop('pval', axis=1)\n",
    "\n",
    "# one hot encode chromosome\n",
    "oneHot = pd.get_dummies(features['chromosome'], prefix = 'chromosome')\n",
    "features = features.join(oneHot)\n",
    "features = features.drop('chromosome', axis = 1)"
   ]
  },
  {
   "cell_type": "code",
   "execution_count": 9,
   "id": "50ff4f04",
   "metadata": {},
   "outputs": [
    {
     "name": "stdout",
     "output_type": "stream",
     "text": [
      "3                NaN\n",
      "4       4.000000e-08\n",
      "7       1.000000e-09\n",
      "20               NaN\n",
      "21               NaN\n",
      "            ...     \n",
      "7707    3.000000e-08\n",
      "7711    2.000000e-09\n",
      "7713    3.000000e-08\n",
      "7714    5.000000e-08\n",
      "7717    2.000000e-10\n",
      "Name: pval, Length: 4780, dtype: float64\n"
     ]
    }
   ],
   "source": [
    "print(predicting_attr)"
   ]
  },
  {
   "cell_type": "code",
   "execution_count": 10,
   "id": "60f03c73",
   "metadata": {},
   "outputs": [
    {
     "name": "stdout",
     "output_type": "stream",
     "text": [
      "        id  jaccard_similarity  chromosome_1.0  chromosome_2.0  \\\n",
      "3        3            0.004432               0               1   \n",
      "4        4            0.002947               0               0   \n",
      "7        7            0.012022               0               0   \n",
      "20      20            0.004910               0               0   \n",
      "21      21            0.005878               0               0   \n",
      "...    ...                 ...             ...             ...   \n",
      "7707  7707            0.000737               0               0   \n",
      "7711  7711            0.004177               0               0   \n",
      "7713  7713            0.002464               0               0   \n",
      "7714  7714            0.001723               0               0   \n",
      "7717  7717            0.000493               1               0   \n",
      "\n",
      "      chromosome_3.0  chromosome_4.0  chromosome_5.0  chromosome_6.0  \\\n",
      "3                  0               0               0               0   \n",
      "4                  0               0               0               0   \n",
      "7                  0               0               0               0   \n",
      "20                 0               0               0               1   \n",
      "21                 0               0               0               1   \n",
      "...              ...             ...             ...             ...   \n",
      "7707               0               0               0               0   \n",
      "7711               0               0               0               0   \n",
      "7713               0               0               0               0   \n",
      "7714               0               0               0               0   \n",
      "7717               0               0               0               0   \n",
      "\n",
      "      chromosome_7.0  chromosome_8.0  ...  chromosome_15.0  chromosome_16.0  \\\n",
      "3                  0               0  ...                0                0   \n",
      "4                  0               0  ...                0                1   \n",
      "7                  0               0  ...                1                0   \n",
      "20                 0               0  ...                0                0   \n",
      "21                 0               0  ...                0                0   \n",
      "...              ...             ...  ...              ...              ...   \n",
      "7707               1               0  ...                0                0   \n",
      "7711               1               0  ...                0                0   \n",
      "7713               0               0  ...                0                0   \n",
      "7714               0               0  ...                0                0   \n",
      "7717               0               0  ...                0                0   \n",
      "\n",
      "      chromosome_17.0  chromosome_18.0  chromosome_19.0  chromosome_20.0  \\\n",
      "3                   0                0                0                0   \n",
      "4                   0                0                0                0   \n",
      "7                   0                0                0                0   \n",
      "20                  0                0                0                0   \n",
      "21                  0                0                0                0   \n",
      "...               ...              ...              ...              ...   \n",
      "7707                0                0                0                0   \n",
      "7711                0                0                0                0   \n",
      "7713                0                1                0                0   \n",
      "7714                0                0                1                0   \n",
      "7717                0                0                0                0   \n",
      "\n",
      "      chromosome_21.0  chromosome_22.0  chromosome_23.0  chromosome_24.0  \n",
      "3                   0                0                0                0  \n",
      "4                   0                0                0                0  \n",
      "7                   0                0                0                0  \n",
      "20                  0                0                0                0  \n",
      "21                  0                0                0                0  \n",
      "...               ...              ...              ...              ...  \n",
      "7707                0                0                0                0  \n",
      "7711                0                0                0                0  \n",
      "7713                0                0                0                0  \n",
      "7714                0                0                0                0  \n",
      "7717                0                0                0                0  \n",
      "\n",
      "[4780 rows x 26 columns]\n"
     ]
    }
   ],
   "source": [
    "print(features)"
   ]
  },
  {
   "cell_type": "code",
   "execution_count": 11,
   "id": "10d002f4",
   "metadata": {},
   "outputs": [
    {
     "name": "stdout",
     "output_type": "stream",
     "text": [
      "nodeList len 4780\n",
      "edgesDfFiltered shape (440517, 2)\n",
      "adj shape (4780, 4780)\n",
      "adj sparse shape (4780, 4780)\n",
      "  (0, 4)\t1.0\n",
      "  (0, 256)\t1.0\n",
      "  (0, 257)\t1.0\n",
      "  (0, 258)\t1.0\n",
      "  (0, 322)\t1.0\n",
      "  (0, 535)\t1.0\n",
      "  (0, 717)\t1.0\n",
      "  (0, 718)\t1.0\n",
      "  (0, 719)\t1.0\n",
      "  (0, 730)\t1.0\n",
      "  (0, 808)\t1.0\n",
      "  (0, 825)\t1.0\n",
      "  (0, 918)\t1.0\n",
      "  (0, 1163)\t1.0\n",
      "  (0, 1170)\t1.0\n",
      "  (0, 1519)\t1.0\n",
      "  (0, 1905)\t1.0\n",
      "  (0, 1934)\t1.0\n",
      "  (0, 2031)\t1.0\n",
      "  (0, 2049)\t1.0\n",
      "  (0, 2054)\t1.0\n",
      "  (0, 2196)\t1.0\n",
      "  (0, 2276)\t1.0\n",
      "  (0, 2281)\t1.0\n",
      "  (0, 2282)\t1.0\n",
      "  :\t:\n",
      "  (4776, 3261)\t1.0\n",
      "  (4776, 3284)\t1.0\n",
      "  (4776, 3372)\t1.0\n",
      "  (4776, 3382)\t1.0\n",
      "  (4776, 3391)\t1.0\n",
      "  (4776, 3401)\t1.0\n",
      "  (4776, 3443)\t1.0\n",
      "  (4776, 3632)\t1.0\n",
      "  (4776, 3639)\t1.0\n",
      "  (4776, 3641)\t1.0\n",
      "  (4776, 4099)\t1.0\n",
      "  (4776, 4172)\t1.0\n",
      "  (4776, 4306)\t1.0\n",
      "  (4777, 923)\t1.0\n",
      "  (4777, 1257)\t1.0\n",
      "  (4777, 1258)\t1.0\n",
      "  (4777, 1418)\t1.0\n",
      "  (4777, 1607)\t1.0\n",
      "  (4777, 1625)\t1.0\n",
      "  (4778, 1224)\t1.0\n",
      "  (4778, 2053)\t1.0\n",
      "  (4778, 3012)\t1.0\n",
      "  (4778, 3016)\t1.0\n",
      "  (4778, 3017)\t1.0\n",
      "  (4778, 3019)\t1.0\n"
     ]
    }
   ],
   "source": [
    "nodeList = features[\"id\"].values.tolist()\n",
    "print('nodeList len', len(nodeList))\n",
    "\n",
    "# filter edges that are not in selected nodes\n",
    "edgesDfFiltered = edgesDf[edgesDf['source'].isin(nodeList)]\n",
    "edgesDfFiltered = edgesDfFiltered[edgesDfFiltered['sink'].isin(nodeList)]\n",
    "print('edgesDfFiltered shape', edgesDfFiltered.shape)\n",
    "\n",
    "# build adj matrix\n",
    "numNodes = len(nodeList)\n",
    "adj = np.zeros((numNodes, numNodes))\n",
    "\n",
    "for index, row in edgesDfFiltered.iterrows():\n",
    "    u = nodeList.index(row['source'])\n",
    "    v = nodeList.index(row['sink'])\n",
    "    adj[u][v] = 1\n",
    "    adj[v][u] = 1\n",
    "\n",
    "print('adj shape', adj.shape)\n",
    "adj = sparse.csr_matrix(adj)\n",
    "print('adj sparse shape', adj.shape)\n",
    "print(adj)"
   ]
  },
  {
   "cell_type": "code",
   "execution_count": 12,
   "id": "70b8311d",
   "metadata": {},
   "outputs": [
    {
     "name": "stdout",
     "output_type": "stream",
     "text": [
      "Storing in  Processed/Alzheimer_features.pickle and  Processed/Alzheimer_adj.pickle and Processed/Alzheimer_pval.pickle and Processed/Alzheimer_node_id_list.pickle\n"
     ]
    }
   ],
   "source": [
    "# drop node_id column\n",
    "features = features.drop('id', axis=1).reset_index(drop=True)\n",
    "features = sparse.csr_matrix(features.to_numpy())\n",
    "\n",
    "data_name = 'Alzheimer'\n",
    "f1 = 'Processed/' + data_name + '_features.pickle'\n",
    "a1 = 'Processed/' + data_name + '_adj.pickle'\n",
    "p1 = 'Processed/' + data_name + '_pval.pickle'\n",
    "n1 = 'Processed/' + data_name + '_node_id_list.pickle'\n",
    "print('Storing in ', f1, 'and ', a1, 'and', p1, 'and', n1)\n",
    "\n",
    "with open(f1, 'wb') as handle: pickle.dump(features, handle, protocol=pickle.HIGHEST_PROTOCOL)\n",
    "with open(a1, 'wb') as handle: pickle.dump(adj, handle, protocol=pickle.HIGHEST_PROTOCOL)\n",
    "with open(p1, 'wb') as handle: pickle.dump(predicting_attr, handle, protocol=pickle.HIGHEST_PROTOCOL)\n",
    "with open(n1, 'wb') as handle: pickle.dump(nodeList, handle, protocol=pickle.HIGHEST_PROTOCOL)"
   ]
  },
  {
   "cell_type": "code",
   "execution_count": 15,
   "id": "bd068124",
   "metadata": {},
   "outputs": [
    {
     "data": {
      "text/plain": [
       "False"
      ]
     },
     "execution_count": 15,
     "metadata": {},
     "output_type": "execute_result"
    }
   ],
   "source": [
    "np.isnan(nodeList).any()"
   ]
  },
  {
   "cell_type": "code",
   "execution_count": null,
   "id": "de692f4f",
   "metadata": {},
   "outputs": [],
   "source": []
  }
 ],
 "metadata": {
  "kernelspec": {
   "display_name": "Python 3 (ipykernel)",
   "language": "python",
   "name": "python3"
  },
  "language_info": {
   "codemirror_mode": {
    "name": "ipython",
    "version": 3
   },
   "file_extension": ".py",
   "mimetype": "text/x-python",
   "name": "python",
   "nbconvert_exporter": "python",
   "pygments_lexer": "ipython3",
   "version": "3.8.16"
  }
 },
 "nbformat": 4,
 "nbformat_minor": 5
}
