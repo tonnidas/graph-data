{
 "cells": [
  {
   "cell_type": "markdown",
   "id": "14fef661",
   "metadata": {},
   "source": [
    "#### pip install seaborn"
   ]
  },
  {
   "cell_type": "code",
   "execution_count": 557,
   "id": "a86d8e21",
   "metadata": {},
   "outputs": [],
   "source": [
    "# All imports\n",
    "import pandas as pd\n",
    "import glob\n",
    "import os\n",
    "import networkx as nx\n",
    "import pickle\n",
    "import numpy as np\n",
    "from scipy import sparse\n",
    "import seaborn as sns\n",
    "import matplotlib.pyplot as plt\n",
    "import scipy.stats as stats"
   ]
  },
  {
   "cell_type": "code",
   "execution_count": 558,
   "id": "62f39a59",
   "metadata": {},
   "outputs": [
    {
     "name": "stdout",
     "output_type": "stream",
     "text": [
      "edgesDf shape (559147, 2)\n",
      "nodesDf shape (7751, 18)\n"
     ]
    }
   ],
   "source": [
    "# read data from CSV files\n",
    "edgesFile = 'Raw/edges.csv'\n",
    "nodesFile = 'Raw/nodes.csv'\n",
    "\n",
    "edgesDf = pd.read_csv(edgesFile, sep=',')\n",
    "edgesDf = edgesDf[[\"source\", \"sink\"]]\n",
    "print('edgesDf shape', edgesDf.shape)\n",
    "\n",
    "nodesDf = pd.read_csv(nodesFile, sep=',')\n",
    "print('nodesDf shape', nodesDf.shape)"
   ]
  },
  {
   "cell_type": "code",
   "execution_count": 559,
   "id": "91d206f4",
   "metadata": {},
   "outputs": [
    {
     "name": "stdout",
     "output_type": "stream",
     "text": [
      "all_data shape (5253, 4)\n"
     ]
    }
   ],
   "source": [
    "# convert pval to float and use NaN for non numeric values\n",
    "nodesDf['pval'] = pd.to_numeric(nodesDf['pval'], errors='coerce')\n",
    "\n",
    "# remove nodes with empty or non-numeric pval\n",
    "# nodesPvalDf = nodesDf[nodesDf['pval'].notna()]\n",
    "# print('nodesPvalDf shape', nodesPvalDf.shape)\n",
    "\n",
    "# construct dataframe with the selected features\n",
    "tmp = nodesDf[['id', 'chromosome', 'jaccard_similarity', 'pval']]\n",
    "tmp = tmp[tmp['chromosome'].notna()]\n",
    "all_data = tmp[tmp['jaccard_similarity'].notna()]\n",
    "print('all_data shape', all_data.shape)"
   ]
  },
  {
   "cell_type": "code",
   "execution_count": 560,
   "id": "1ca8c69b",
   "metadata": {},
   "outputs": [
    {
     "name": "stdout",
     "output_type": "stream",
     "text": [
      "14                                                                            442\n",
      "1                                                                             441\n",
      "19                                                                            375\n",
      "11                                                                            298\n",
      "2                                                                             296\n",
      "21                                                                            293\n",
      "7                                                                             290\n",
      "3                                                                             260\n",
      "10                                                                            257\n",
      "17                                                                            243\n",
      "5                                                                             236\n",
      "6                                                                             220\n",
      "12                                                                            214\n",
      "15                                                                            190\n",
      "8                                                                             174\n",
      "4                                                                             160\n",
      "9                                                                             141\n",
      "16                                                                            135\n",
      "13                                                                             87\n",
      "GCST9013226                                                                    87\n",
      "20                                                                             80\n",
      "18                                                                             63\n",
      "22                                                                             59\n",
      "GCST00592                                                                      52\n",
      "GCST9013460                                                                    29\n",
      "X                                                                              26\n",
      "GCST9009519                                                                    24\n",
      "GCST00342                                                                      23\n",
      "GCST00732                                                                      13\n",
      "GCST00425                                                                      11\n",
      "GCST00782                                                                       5\n",
      "GCST00345                                                                       4\n",
      "19|19                                                                           4\n",
      " gastroesophageal reflux diseas                                                 3\n",
      "GCST00128                                                                       3\n",
      "GCST00089                                                                       3\n",
      "GCST9009328                                                                     2\n",
      "Y                                                                               2\n",
      "GCST00266                                                                       2\n",
      "GCST00195                                                                       1\n",
      "GCST9001287                                                                     1\n",
      "GCST00191                                                                       1\n",
      " CCL2 measuremen                                                                1\n",
      "Alzheimer’s disease polygenic risk score (upper quantile vs lower quantile      1\n",
      "GCST00186                                                                       1\n",
      "Name: chromosome, dtype: int64\n"
     ]
    }
   ],
   "source": [
    "print(all_data.chromosome.value_counts())"
   ]
  },
  {
   "cell_type": "code",
   "execution_count": 561,
   "id": "55d5326b",
   "metadata": {},
   "outputs": [
    {
     "name": "stdout",
     "output_type": "stream",
     "text": [
      "All data shape (5253, 4)\n",
      "non-empty pval: (1214, 4)\n",
      "empty pval: (4039, 4)\n"
     ]
    }
   ],
   "source": [
    "print('All data shape', all_data.shape)\n",
    "\n",
    "# seperate data according to non-empty and empty pval\n",
    "data_pval = all_data[all_data['pval'].notna()]\n",
    "print('non-empty pval:', data_pval.shape)\n",
    "\n",
    "data_emptyPval = all_data[all_data['pval'].isnull()]\n",
    "print('empty pval:', data_emptyPval.shape)"
   ]
  },
  {
   "cell_type": "code",
   "execution_count": 562,
   "id": "201395c2",
   "metadata": {},
   "outputs": [
    {
     "name": "stdout",
     "output_type": "stream",
     "text": [
      "second min: 1e-300\n",
      "count    1.214000e+03\n",
      "mean     1.105047e-06\n",
      "std      2.222589e-06\n",
      "min      0.000000e+00\n",
      "25%      5.000000e-10\n",
      "50%      4.000000e-08\n",
      "75%      8.000000e-07\n",
      "max      1.000000e-05\n",
      "Name: pval, dtype: float64\n",
      "small than 1e-10: 257 probable outliers counts.\n"
     ]
    }
   ],
   "source": [
    "# pval analysis\n",
    "# max 1e-5, min 0, second min 1e-300\n",
    "y = data_pval['pval']\n",
    "print('second min:', y.nsmallest(2).iloc[-1])\n",
    "print(y.describe())\n",
    "print('small than 1e-10:', y[(y > 0) & (y < 1e-10)].count(), 'probable outliers counts.')"
   ]
  },
  {
   "cell_type": "code",
   "execution_count": 563,
   "id": "b7c7efed",
   "metadata": {},
   "outputs": [
    {
     "name": "stdout",
     "output_type": "stream",
     "text": [
      "(956, 4)\n"
     ]
    }
   ],
   "source": [
    "# remove the outliers\n",
    "data_pval = data_pval[data_pval['pval'] >= 1e-10]\n",
    "print(data_pval.shape)"
   ]
  },
  {
   "cell_type": "code",
   "execution_count": 564,
   "id": "d8a4e403",
   "metadata": {},
   "outputs": [
    {
     "name": "stdout",
     "output_type": "stream",
     "text": [
      "data with pval present = \n",
      "19                                                                            103\n",
      "2                                                                              65\n",
      "7                                                                              62\n",
      "1                                                                              60\n",
      "GCST9013226                                                                    48\n",
      "3                                                                              46\n",
      "11                                                                             45\n",
      "5                                                                              42\n",
      "GCST00592                                                                      40\n",
      "8                                                                              39\n",
      "15                                                                             39\n",
      "6                                                                              38\n",
      "12                                                                             38\n",
      "GCST9013460                                                                    29\n",
      "10                                                                             28\n",
      "17                                                                             28\n",
      "4                                                                              24\n",
      "GCST00342                                                                      22\n",
      "14                                                                             22\n",
      "16                                                                             21\n",
      "GCST9009519                                                                    18\n",
      "9                                                                              14\n",
      "13                                                                             13\n",
      "20                                                                             12\n",
      "GCST00425                                                                      11\n",
      "21                                                                             10\n",
      "18                                                                              9\n",
      "22                                                                              7\n",
      "GCST00732                                                                       4\n",
      " gastroesophageal reflux diseas                                                 3\n",
      "GCST00089                                                                       3\n",
      "GCST00128                                                                       3\n",
      "GCST9009328                                                                     2\n",
      "GCST00345                                                                       2\n",
      "X                                                                               1\n",
      "GCST00191                                                                       1\n",
      "GCST00782                                                                       1\n",
      "GCST00195                                                                       1\n",
      "GCST00186                                                                       1\n",
      "Alzheimer’s disease polygenic risk score (upper quantile vs lower quantile      1\n",
      "Name: chromosome, dtype: int64\n",
      "-------------------------------------------------------------------------------------------------------------\n",
      "\n",
      "data with pval absent =\n",
      "14             414\n",
      "1              374\n",
      "21             282\n",
      "11             241\n",
      "2              224\n",
      "10             223\n",
      "7              222\n",
      "17             206\n",
      "3              205\n",
      "19             194\n",
      "5              185\n",
      "12             172\n",
      "6              168\n",
      "15             144\n",
      "4              133\n",
      "8              127\n",
      "9              126\n",
      "16             104\n",
      "13              73\n",
      "20              67\n",
      "18              53\n",
      "22              50\n",
      "X               25\n",
      "GCST9013226     10\n",
      "GCST00592        7\n",
      "19|19            4\n",
      "Y                2\n",
      "GCST9009519      2\n",
      "GCST00345        2\n",
      "Name: chromosome, dtype: int64\n"
     ]
    }
   ],
   "source": [
    "print('data with pval present = ')\n",
    "print(data_pval.chromosome.value_counts())\n",
    "print('-------------------------------------------------------------------------------------------------------------')\n",
    "print()\n",
    "print('data with pval absent =')\n",
    "print(data_emptyPval.chromosome.value_counts())\n",
    "\n",
    "# Understanding: model may not predict well on unknown chromosom named rows in testing set (data_emptyPval)"
   ]
  },
  {
   "cell_type": "code",
   "execution_count": 565,
   "id": "1f70d96c",
   "metadata": {},
   "outputs": [
    {
     "name": "stdout",
     "output_type": "stream",
     "text": [
      "jacc_beforeFiltering shape =  (6015, 1)\n",
      "jacc_largest =        jaccard_similarity\n",
      "4342            0.096167\n",
      "jacc_smallest =      jaccard_similarity\n",
      "39                 0.0\n",
      "# zeros before filtering =  133\n",
      "\n",
      "jacc_afterFiltering shape =  (956, 4)\n",
      "jacc_after_largest =        id chromosome          pval  jaccard_similarity\n",
      "362  362         20  4.000000e-10            0.054468\n",
      "jacc_after_smallest =        id   chromosome          pval  jaccard_similarity\n",
      "877  877  GCST9013226  4.000000e-08                 0.0\n",
      "# zeros after filtering =  23\n"
     ]
    }
   ],
   "source": [
    "# All information before filtering\n",
    "jacc_beforeFiltering = nodesDf[['jaccard_similarity']].dropna()\n",
    "print(\"jacc_beforeFiltering shape = \", jacc_beforeFiltering.shape)\n",
    "jacc_largest = jacc_beforeFiltering.nlargest(1, ['jaccard_similarity'])\n",
    "print(\"jacc_largest = \", jacc_largest)\n",
    "jacc_smallest = jacc_beforeFiltering.nsmallest(1, ['jaccard_similarity'])\n",
    "print(\"jacc_smallest = \", jacc_smallest)\n",
    "count = (jacc_beforeFiltering['jaccard_similarity'] == 0).sum()\n",
    "print(\"# zeros before filtering = \", count)\n",
    "\n",
    "print()\n",
    "# All information after filtering\n",
    "jacc_afterFiltering = nodesSelectedCols[nodesSelectedCols['jaccard_similarity'].notna()]\n",
    "print(\"jacc_afterFiltering shape = \", jacc_afterFiltering.shape)\n",
    "jacc_after_largest = jacc_afterFiltering.nlargest(1, ['jaccard_similarity'])\n",
    "print(\"jacc_after_largest = \", jacc_after_largest)\n",
    "jacc_after_smallest = jacc_afterFiltering.nsmallest(1, ['jaccard_similarity'])\n",
    "print(\"jacc_after_smallest = \", jacc_after_smallest)\n",
    "count = (jacc_afterFiltering['jaccard_similarity'] == 0).sum()\n",
    "print(\"# zeros after filtering = \", count)\n"
   ]
  },
  {
   "cell_type": "code",
   "execution_count": 566,
   "id": "72e7ac6c",
   "metadata": {},
   "outputs": [
    {
     "data": {
      "text/html": [
       "<div>\n",
       "<style scoped>\n",
       "    .dataframe tbody tr th:only-of-type {\n",
       "        vertical-align: middle;\n",
       "    }\n",
       "\n",
       "    .dataframe tbody tr th {\n",
       "        vertical-align: top;\n",
       "    }\n",
       "\n",
       "    .dataframe thead th {\n",
       "        text-align: right;\n",
       "    }\n",
       "</style>\n",
       "<table border=\"1\" class=\"dataframe\">\n",
       "  <thead>\n",
       "    <tr style=\"text-align: right;\">\n",
       "      <th></th>\n",
       "      <th>id</th>\n",
       "      <th>chromosome</th>\n",
       "      <th>jaccard_similarity</th>\n",
       "      <th>pval</th>\n",
       "    </tr>\n",
       "  </thead>\n",
       "  <tbody>\n",
       "    <tr>\n",
       "      <th>4</th>\n",
       "      <td>4</td>\n",
       "      <td>16</td>\n",
       "      <td>0.002947</td>\n",
       "      <td>4.000000e-08</td>\n",
       "    </tr>\n",
       "    <tr>\n",
       "      <th>7</th>\n",
       "      <td>7</td>\n",
       "      <td>15</td>\n",
       "      <td>0.012022</td>\n",
       "      <td>1.000000e-09</td>\n",
       "    </tr>\n",
       "    <tr>\n",
       "      <th>66</th>\n",
       "      <td>66</td>\n",
       "      <td>1</td>\n",
       "      <td>0.002709</td>\n",
       "      <td>9.000000e-06</td>\n",
       "    </tr>\n",
       "    <tr>\n",
       "      <th>71</th>\n",
       "      <td>71</td>\n",
       "      <td>7</td>\n",
       "      <td>0.002951</td>\n",
       "      <td>4.000000e-06</td>\n",
       "    </tr>\n",
       "    <tr>\n",
       "      <th>82</th>\n",
       "      <td>82</td>\n",
       "      <td>GCST00782</td>\n",
       "      <td>0.000247</td>\n",
       "      <td>6.000000e-10</td>\n",
       "    </tr>\n",
       "    <tr>\n",
       "      <th>...</th>\n",
       "      <td>...</td>\n",
       "      <td>...</td>\n",
       "      <td>...</td>\n",
       "      <td>...</td>\n",
       "    </tr>\n",
       "    <tr>\n",
       "      <th>7711</th>\n",
       "      <td>7711</td>\n",
       "      <td>7</td>\n",
       "      <td>0.004177</td>\n",
       "      <td>2.000000e-09</td>\n",
       "    </tr>\n",
       "    <tr>\n",
       "      <th>7712</th>\n",
       "      <td>7712</td>\n",
       "      <td>GCST00732</td>\n",
       "      <td>0.006143</td>\n",
       "      <td>1.000000e-08</td>\n",
       "    </tr>\n",
       "    <tr>\n",
       "      <th>7713</th>\n",
       "      <td>7713</td>\n",
       "      <td>18</td>\n",
       "      <td>0.002464</td>\n",
       "      <td>3.000000e-08</td>\n",
       "    </tr>\n",
       "    <tr>\n",
       "      <th>7714</th>\n",
       "      <td>7714</td>\n",
       "      <td>19</td>\n",
       "      <td>0.001723</td>\n",
       "      <td>5.000000e-08</td>\n",
       "    </tr>\n",
       "    <tr>\n",
       "      <th>7717</th>\n",
       "      <td>7717</td>\n",
       "      <td>1</td>\n",
       "      <td>0.000493</td>\n",
       "      <td>2.000000e-10</td>\n",
       "    </tr>\n",
       "  </tbody>\n",
       "</table>\n",
       "<p>956 rows × 4 columns</p>\n",
       "</div>"
      ],
      "text/plain": [
       "        id chromosome  jaccard_similarity          pval\n",
       "4        4         16            0.002947  4.000000e-08\n",
       "7        7         15            0.012022  1.000000e-09\n",
       "66      66          1            0.002709  9.000000e-06\n",
       "71      71          7            0.002951  4.000000e-06\n",
       "82      82  GCST00782            0.000247  6.000000e-10\n",
       "...    ...        ...                 ...           ...\n",
       "7711  7711          7            0.004177  2.000000e-09\n",
       "7712  7712  GCST00732            0.006143  1.000000e-08\n",
       "7713  7713         18            0.002464  3.000000e-08\n",
       "7714  7714         19            0.001723  5.000000e-08\n",
       "7717  7717          1            0.000493  2.000000e-10\n",
       "\n",
       "[956 rows x 4 columns]"
      ]
     },
     "execution_count": 566,
     "metadata": {},
     "output_type": "execute_result"
    }
   ],
   "source": [
    "data_pval"
   ]
  },
  {
   "cell_type": "code",
   "execution_count": 567,
   "id": "f1cbbf1a",
   "metadata": {},
   "outputs": [
    {
     "name": "stdout",
     "output_type": "stream",
     "text": [
      "chromosome\n",
      "1.0      60\n",
      "2.0      65\n",
      "3.0      46\n",
      "4.0      24\n",
      "5.0      42\n",
      "6.0      38\n",
      "7.0      62\n",
      "8.0      39\n",
      "9.0      14\n",
      "10.0     28\n",
      "11.0     45\n",
      "12.0     38\n",
      "13.0     13\n",
      "14.0     22\n",
      "15.0     39\n",
      "16.0     21\n",
      "17.0     28\n",
      "18.0      9\n",
      "19.0    103\n",
      "20.0     12\n",
      "21.0     10\n",
      "22.0      7\n",
      "23.0      1\n",
      "Name: id, dtype: int64\n"
     ]
    }
   ],
   "source": [
    "# count number of rows by chromosome\n",
    "# TODO clean up invalid chromosome\n",
    "\n",
    "data_pval.loc[data_pval['chromosome'] == 'X', 'chromosome'] = '23'\n",
    "data_pval.loc[data_pval['chromosome'] == 'Y', 'chromosome'] = '24'\n",
    "\n",
    "# convert pval to float and use NaN for non numeric values\n",
    "data_pval['chromosome'] = pd.to_numeric(data_pval['chromosome'], errors='coerce')\n",
    "# remove nodes with empty or non-numeric pval\n",
    "data_pval = data_pval[data_pval['chromosome'].notna()]\n",
    "\n",
    "temp = data_pval.groupby('chromosome')['id'].nunique()\n",
    "print(temp)"
   ]
  },
  {
   "cell_type": "code",
   "execution_count": 568,
   "id": "b9d440ce",
   "metadata": {},
   "outputs": [
    {
     "name": "stdout",
     "output_type": "stream",
     "text": [
      "19.0    103\n",
      "2.0      65\n",
      "7.0      62\n",
      "1.0      60\n",
      "3.0      46\n",
      "11.0     45\n",
      "5.0      42\n",
      "8.0      39\n",
      "15.0     39\n",
      "12.0     38\n",
      "6.0      38\n",
      "10.0     28\n",
      "17.0     28\n",
      "4.0      24\n",
      "14.0     22\n",
      "16.0     21\n",
      "9.0      14\n",
      "13.0     13\n",
      "20.0     12\n",
      "21.0     10\n",
      "18.0      9\n",
      "22.0      7\n",
      "23.0      1\n",
      "Name: chromosome, dtype: int64\n",
      "------------------------------------\n",
      "(766, 4)\n"
     ]
    }
   ],
   "source": [
    "# Chromosome groups (highest to lowest)\n",
    "\n",
    "print(data_pval.chromosome.value_counts())\n",
    "print('------------------------------------')\n",
    "print(data_pval.shape)"
   ]
  },
  {
   "cell_type": "code",
   "execution_count": 569,
   "id": "d7472e5a",
   "metadata": {},
   "outputs": [
    {
     "name": "stdout",
     "output_type": "stream",
     "text": [
      "766\n"
     ]
    },
    {
     "data": {
      "image/png": "[encoded data removed]",
      "text/plain": [
       "<Figure size 2250x1350 with 1 Axes>"
      ]
     },
     "metadata": {},
     "output_type": "display_data"
    }
   ],
   "source": [
    "observation_size = data_pval.shape[0]\n",
    "print(observation_size)\n",
    "\n",
    "plt.rcParams[\"figure.figsize\"] = [22.50, 13.50]\n",
    "plt.rcParams[\"figure.autolayout\"] = True\n",
    "_ = data_pval.boxplot('pval', by='chromosome')"
   ]
  },
  {
   "cell_type": "code",
   "execution_count": 570,
   "id": "c6716695",
   "metadata": {},
   "outputs": [
    {
     "data": {
      "text/plain": [
       "<AxesSubplot:>"
      ]
     },
     "execution_count": 570,
     "metadata": {},
     "output_type": "execute_result"
    },
    {
     "data": {
      "image/png": "[encoded data removed]",
      "text/plain": [
       "<Figure size 1000x1000 with 2 Axes>"
      ]
     },
     "metadata": {},
     "output_type": "display_data"
    }
   ],
   "source": [
    "# Corelation ofotherfeatures with pval\n",
    "# A value closer to 1 implies stronger positive correlation\n",
    "# A value closer to -1 implies stronger negative correlation\n",
    "\n",
    "corr = nodesSelectedCols.corr()\n",
    "plt.figure(figsize=(10,10))\n",
    "corr_heatmap = sns.heatmap(corr, annot = True, cmap='coolwarm')\n",
    "\n",
    "corr_heatmap"
   ]
  },
  {
   "cell_type": "code",
   "execution_count": 571,
   "id": "6823ad1f",
   "metadata": {},
   "outputs": [
    {
     "name": "stdout",
     "output_type": "stream",
     "text": [
      "Total datapoints = 766\n",
      "Fromthe perspctiveof pval, among these data points\n",
      "Within range e-9 and e-10 :- 59\n",
      "Within range e-8 and e-9 :- 105\n",
      "Within range e-7 and e-8 :- 206\n",
      "Within range e-6 and e-7 :- 146\n",
      "Within range e-5 and e-6 :- 246\n",
      "Within range e-4 and e-5 :- 4\n",
      "Within range e-3 and e-4 :- 0\n",
      "Within range e-2 and e-3 :- 0\n",
      "Within range e-1 and e-2 :- 0\n",
      "All aboove e-1 :- 0\n",
      "766\n"
     ]
    }
   ],
   "source": [
    "# if (10**(-9) <= data_pval['pval']) & (data_pval['pval'] < 10**(-10)): c += 1\n",
    "\n",
    "n1 = data_pval.loc[(data_pval['pval'] < 10**(-9)) & (data_pval['pval'] >= 10**(-10))]\n",
    "n2 = data_pval.loc[(data_pval['pval'] < 10**(-8)) & (data_pval['pval'] >= 10**(-9))]\n",
    "n3 = data_pval.loc[(data_pval['pval'] < 10**(-7)) & (data_pval['pval'] >= 10**(-8))]\n",
    "n4 = data_pval.loc[(data_pval['pval'] < 10**(-6)) & (data_pval['pval'] >= 10**(-7))]\n",
    "n5 = data_pval.loc[(data_pval['pval'] < 10**(-5)) & (data_pval['pval'] >= 10**(-6))]\n",
    "n6 = data_pval.loc[(data_pval['pval'] < 10**(-4)) & (data_pval['pval'] >= 10**(-5))]\n",
    "n7 = data_pval.loc[(data_pval['pval'] < 10**(-3)) & (data_pval['pval'] >= 10**(-4))]\n",
    "n8 = data_pval.loc[(data_pval['pval'] < 10**(-2)) & (data_pval['pval'] >= 10**(-3))]\n",
    "n9 = data_pval.loc[(data_pval['pval'] < 10**(-1)) & (data_pval['pval'] >= 10**(-2))]\n",
    "n10 = data_pval.loc[(data_pval['pval'] >= 10**(-1))]\n",
    "\n",
    "print('Total datapoints =', data_pval.shape[0])\n",
    "print('Fromthe perspctiveof pval, among these data points')\n",
    "print('Within range e-9 and e-10 :-', n1.shape[0])\n",
    "print('Within range e-8 and e-9 :-', n2.shape[0])\n",
    "print('Within range e-7 and e-8 :-', n3.shape[0])\n",
    "print('Within range e-6 and e-7 :-', n4.shape[0])\n",
    "print('Within range e-5 and e-6 :-', n5.shape[0])\n",
    "print('Within range e-4 and e-5 :-', n6.shape[0])\n",
    "print('Within range e-3 and e-4 :-', n7.shape[0])\n",
    "print('Within range e-2 and e-3 :-', n8.shape[0])\n",
    "print('Within range e-1 and e-2 :-', n9.shape[0])\n",
    "print('All aboove e-1 :-', n9.shape[0])\n",
    "\n",
    "print(59+105+206+146+246+4)"
   ]
  },
  {
   "cell_type": "code",
   "execution_count": 555,
   "id": "7ede50b9",
   "metadata": {},
   "outputs": [
    {
     "name": "stderr",
     "output_type": "stream",
     "text": [
      "/var/folders/48/43ljbwhj361953hbznd6h6qc0000gn/T/ipykernel_92080/3868967419.py:2: SettingWithCopyWarning: \n",
      "A value is trying to be set on a copy of a slice from a DataFrame.\n",
      "Try using .loc[row_indexer,col_indexer] = value instead\n",
      "\n",
      "See the caveats in the documentation: https://pandas.pydata.org/pandas-docs/stable/user_guide/indexing.html#returning-a-view-versus-a-copy\n",
      "  data_pval_new['converted pval'] = 100\n"
     ]
    },
    {
     "data": {
      "text/html": [
       "<div>\n",
       "<style scoped>\n",
       "    .dataframe tbody tr th:only-of-type {\n",
       "        vertical-align: middle;\n",
       "    }\n",
       "\n",
       "    .dataframe tbody tr th {\n",
       "        vertical-align: top;\n",
       "    }\n",
       "\n",
       "    .dataframe thead th {\n",
       "        text-align: right;\n",
       "    }\n",
       "</style>\n",
       "<table border=\"1\" class=\"dataframe\">\n",
       "  <thead>\n",
       "    <tr style=\"text-align: right;\">\n",
       "      <th></th>\n",
       "      <th>id</th>\n",
       "      <th>chromosome</th>\n",
       "      <th>jaccard_similarity</th>\n",
       "      <th>pval</th>\n",
       "      <th>converted pval</th>\n",
       "    </tr>\n",
       "  </thead>\n",
       "  <tbody>\n",
       "    <tr>\n",
       "      <th>4</th>\n",
       "      <td>4</td>\n",
       "      <td>16.0</td>\n",
       "      <td>0.002947</td>\n",
       "      <td>4.000000e-08</td>\n",
       "      <td>100</td>\n",
       "    </tr>\n",
       "    <tr>\n",
       "      <th>7</th>\n",
       "      <td>7</td>\n",
       "      <td>15.0</td>\n",
       "      <td>0.012022</td>\n",
       "      <td>1.000000e-09</td>\n",
       "      <td>100</td>\n",
       "    </tr>\n",
       "    <tr>\n",
       "      <th>66</th>\n",
       "      <td>66</td>\n",
       "      <td>1.0</td>\n",
       "      <td>0.002709</td>\n",
       "      <td>9.000000e-06</td>\n",
       "      <td>100</td>\n",
       "    </tr>\n",
       "    <tr>\n",
       "      <th>71</th>\n",
       "      <td>71</td>\n",
       "      <td>7.0</td>\n",
       "      <td>0.002951</td>\n",
       "      <td>4.000000e-06</td>\n",
       "      <td>100</td>\n",
       "    </tr>\n",
       "    <tr>\n",
       "      <th>83</th>\n",
       "      <td>83</td>\n",
       "      <td>10.0</td>\n",
       "      <td>0.012946</td>\n",
       "      <td>5.000000e-09</td>\n",
       "      <td>100</td>\n",
       "    </tr>\n",
       "    <tr>\n",
       "      <th>...</th>\n",
       "      <td>...</td>\n",
       "      <td>...</td>\n",
       "      <td>...</td>\n",
       "      <td>...</td>\n",
       "      <td>...</td>\n",
       "    </tr>\n",
       "    <tr>\n",
       "      <th>7707</th>\n",
       "      <td>7707</td>\n",
       "      <td>7.0</td>\n",
       "      <td>0.000737</td>\n",
       "      <td>3.000000e-08</td>\n",
       "      <td>100</td>\n",
       "    </tr>\n",
       "    <tr>\n",
       "      <th>7711</th>\n",
       "      <td>7711</td>\n",
       "      <td>7.0</td>\n",
       "      <td>0.004177</td>\n",
       "      <td>2.000000e-09</td>\n",
       "      <td>100</td>\n",
       "    </tr>\n",
       "    <tr>\n",
       "      <th>7713</th>\n",
       "      <td>7713</td>\n",
       "      <td>18.0</td>\n",
       "      <td>0.002464</td>\n",
       "      <td>3.000000e-08</td>\n",
       "      <td>100</td>\n",
       "    </tr>\n",
       "    <tr>\n",
       "      <th>7714</th>\n",
       "      <td>7714</td>\n",
       "      <td>19.0</td>\n",
       "      <td>0.001723</td>\n",
       "      <td>5.000000e-08</td>\n",
       "      <td>100</td>\n",
       "    </tr>\n",
       "    <tr>\n",
       "      <th>7717</th>\n",
       "      <td>7717</td>\n",
       "      <td>1.0</td>\n",
       "      <td>0.000493</td>\n",
       "      <td>2.000000e-10</td>\n",
       "      <td>100</td>\n",
       "    </tr>\n",
       "  </tbody>\n",
       "</table>\n",
       "<p>766 rows × 5 columns</p>\n",
       "</div>"
      ],
      "text/plain": [
       "        id  chromosome  jaccard_similarity          pval  converted pval\n",
       "4        4        16.0            0.002947  4.000000e-08             100\n",
       "7        7        15.0            0.012022  1.000000e-09             100\n",
       "66      66         1.0            0.002709  9.000000e-06             100\n",
       "71      71         7.0            0.002951  4.000000e-06             100\n",
       "83      83        10.0            0.012946  5.000000e-09             100\n",
       "...    ...         ...                 ...           ...             ...\n",
       "7707  7707         7.0            0.000737  3.000000e-08             100\n",
       "7711  7711         7.0            0.004177  2.000000e-09             100\n",
       "7713  7713        18.0            0.002464  3.000000e-08             100\n",
       "7714  7714        19.0            0.001723  5.000000e-08             100\n",
       "7717  7717         1.0            0.000493  2.000000e-10             100\n",
       "\n",
       "[766 rows x 5 columns]"
      ]
     },
     "execution_count": 555,
     "metadata": {},
     "output_type": "execute_result"
    }
   ],
   "source": [
    "data_pval_new = data_pval\n",
    "data_pval_new['converted pval'] = 100\n",
    "data_pval_new"
   ]
  },
  {
   "cell_type": "code",
   "execution_count": 577,
   "id": "a5036fb3",
   "metadata": {},
   "outputs": [
    {
     "data": {
      "text/html": [
       "<div>\n",
       "<style scoped>\n",
       "    .dataframe tbody tr th:only-of-type {\n",
       "        vertical-align: middle;\n",
       "    }\n",
       "\n",
       "    .dataframe tbody tr th {\n",
       "        vertical-align: top;\n",
       "    }\n",
       "\n",
       "    .dataframe thead th {\n",
       "        text-align: right;\n",
       "    }\n",
       "</style>\n",
       "<table border=\"1\" class=\"dataframe\">\n",
       "  <thead>\n",
       "    <tr style=\"text-align: right;\">\n",
       "      <th></th>\n",
       "      <th>id</th>\n",
       "      <th>chromosome</th>\n",
       "      <th>jaccard_similarity</th>\n",
       "      <th>converted pval</th>\n",
       "    </tr>\n",
       "  </thead>\n",
       "  <tbody>\n",
       "    <tr>\n",
       "      <th>4</th>\n",
       "      <td>4</td>\n",
       "      <td>16.0</td>\n",
       "      <td>0.002947</td>\n",
       "      <td>80</td>\n",
       "    </tr>\n",
       "    <tr>\n",
       "      <th>7</th>\n",
       "      <td>7</td>\n",
       "      <td>15.0</td>\n",
       "      <td>0.012022</td>\n",
       "      <td>90</td>\n",
       "    </tr>\n",
       "    <tr>\n",
       "      <th>66</th>\n",
       "      <td>66</td>\n",
       "      <td>1.0</td>\n",
       "      <td>0.002709</td>\n",
       "      <td>60</td>\n",
       "    </tr>\n",
       "    <tr>\n",
       "      <th>71</th>\n",
       "      <td>71</td>\n",
       "      <td>7.0</td>\n",
       "      <td>0.002951</td>\n",
       "      <td>60</td>\n",
       "    </tr>\n",
       "    <tr>\n",
       "      <th>83</th>\n",
       "      <td>83</td>\n",
       "      <td>10.0</td>\n",
       "      <td>0.012946</td>\n",
       "      <td>90</td>\n",
       "    </tr>\n",
       "    <tr>\n",
       "      <th>...</th>\n",
       "      <td>...</td>\n",
       "      <td>...</td>\n",
       "      <td>...</td>\n",
       "      <td>...</td>\n",
       "    </tr>\n",
       "    <tr>\n",
       "      <th>7707</th>\n",
       "      <td>7707</td>\n",
       "      <td>7.0</td>\n",
       "      <td>0.000737</td>\n",
       "      <td>80</td>\n",
       "    </tr>\n",
       "    <tr>\n",
       "      <th>7711</th>\n",
       "      <td>7711</td>\n",
       "      <td>7.0</td>\n",
       "      <td>0.004177</td>\n",
       "      <td>90</td>\n",
       "    </tr>\n",
       "    <tr>\n",
       "      <th>7713</th>\n",
       "      <td>7713</td>\n",
       "      <td>18.0</td>\n",
       "      <td>0.002464</td>\n",
       "      <td>80</td>\n",
       "    </tr>\n",
       "    <tr>\n",
       "      <th>7714</th>\n",
       "      <td>7714</td>\n",
       "      <td>19.0</td>\n",
       "      <td>0.001723</td>\n",
       "      <td>80</td>\n",
       "    </tr>\n",
       "    <tr>\n",
       "      <th>7717</th>\n",
       "      <td>7717</td>\n",
       "      <td>1.0</td>\n",
       "      <td>0.000493</td>\n",
       "      <td>100</td>\n",
       "    </tr>\n",
       "  </tbody>\n",
       "</table>\n",
       "<p>766 rows × 4 columns</p>\n",
       "</div>"
      ],
      "text/plain": [
       "        id  chromosome  jaccard_similarity  converted pval\n",
       "4        4        16.0            0.002947              80\n",
       "7        7        15.0            0.012022              90\n",
       "66      66         1.0            0.002709              60\n",
       "71      71         7.0            0.002951              60\n",
       "83      83        10.0            0.012946              90\n",
       "...    ...         ...                 ...             ...\n",
       "7707  7707         7.0            0.000737              80\n",
       "7711  7711         7.0            0.004177              90\n",
       "7713  7713        18.0            0.002464              80\n",
       "7714  7714        19.0            0.001723              80\n",
       "7717  7717         1.0            0.000493             100\n",
       "\n",
       "[766 rows x 4 columns]"
      ]
     },
     "execution_count": 577,
     "metadata": {},
     "output_type": "execute_result"
    }
   ],
   "source": [
    "data_pval_new.loc[(data_pval_new['pval'] < 10**(-8)) & (data_pval_new['pval'] >= 10**(-9)), 'converted pval'] = 90\n",
    "data_pval_new.loc[(data_pval_new['pval'] < 10**(-7)) & (data_pval_new['pval'] >= 10**(-8)), 'converted pval'] = 80\n",
    "data_pval_new.loc[(data_pval_new['pval'] < 10**(-6)) & (data_pval_new['pval'] >= 10**(-7)), 'converted pval'] = 70\n",
    "data_pval_new.loc[(data_pval_new['pval'] < 10**(-5)) & (data_pval_new['pval'] >= 10**(-6)), 'converted pval'] = 60\n",
    "data_pval_new.loc[(data_pval_new['pval'] < 10**(-4)) & (data_pval_new['pval'] >= 10**(-5)), 'converted pval'] = 50\n",
    "data_pval_new.loc[(data_pval_new['pval'] < 10**(-3)) & (data_pval_new['pval'] >= 10**(-4)), 'converted pval'] = 40\n",
    "data_pval_new.loc[(data_pval_new['pval'] < 10**(-2)) & (data_pval_new['pval'] >= 10**(-3)), 'converted pval'] = 30\n",
    "data_pval_new = data_pval_new.drop(columns=['pval'])\n",
    "data_pval_new"
   ]
  },
  {
   "cell_type": "code",
   "execution_count": 593,
   "id": "5b52ffc5",
   "metadata": {},
   "outputs": [
    {
     "name": "stdout",
     "output_type": "stream",
     "text": [
      "23\n"
     ]
    }
   ],
   "source": [
    "chromosome_list = nodeList = data_pval_new[\"chromosome\"].values.tolist()\n",
    "print(len(set(chromosome_list)))"
   ]
  },
  {
   "cell_type": "code",
   "execution_count": 578,
   "id": "95b56aeb",
   "metadata": {},
   "outputs": [
    {
     "name": "stdout",
     "output_type": "stream",
     "text": [
      "nodeList len 766\n"
     ]
    }
   ],
   "source": [
    "# sort by node_id\n",
    "nodesSelectedCols = data_pval_new.sort_values(by=['id'])\n",
    "\n",
    "nodeList = nodesSelectedCols[\"id\"].values.tolist()\n",
    "print('nodeList len', len(nodeList))"
   ]
  },
  {
   "cell_type": "code",
   "execution_count": 579,
   "id": "0448292d",
   "metadata": {},
   "outputs": [
    {
     "name": "stdout",
     "output_type": "stream",
     "text": [
      "edgesDfFiltered shape (2473, 2)\n"
     ]
    }
   ],
   "source": [
    "# filter edges that are not in selected nodes\n",
    "edgesDfFiltered = edgesDf[edgesDf['source'].isin(nodeList)]\n",
    "edgesDfFiltered = edgesDfFiltered[edgesDfFiltered['sink'].isin(nodeList)]\n",
    "print('edgesDfFiltered shape', edgesDfFiltered.shape)"
   ]
  },
  {
   "cell_type": "code",
   "execution_count": 580,
   "id": "22a9a04a",
   "metadata": {},
   "outputs": [
    {
     "name": "stdout",
     "output_type": "stream",
     "text": [
      "adj shape (766, 766)\n"
     ]
    }
   ],
   "source": [
    "# build adj matrix\n",
    "numNodes = len(nodeList)\n",
    "adj = np.zeros((numNodes, numNodes))\n",
    "\n",
    "for index, row in edgesDfFiltered.iterrows():\n",
    "    u = nodeList.index(row['source'])\n",
    "    v = nodeList.index(row['sink'])\n",
    "    adj[u][v] = 1\n",
    "    adj[v][u] = 1\n",
    "\n",
    "adj = sparse.csr_matrix(adj)\n",
    "print('adj shape', adj.shape)"
   ]
  },
  {
   "cell_type": "code",
   "execution_count": 581,
   "id": "5cce5aeb",
   "metadata": {},
   "outputs": [
    {
     "name": "stdout",
     "output_type": "stream",
     "text": [
      "adj df shape (766, 766)\n"
     ]
    }
   ],
   "source": [
    "# convert to pd df\n",
    "adjDf = pd.DataFrame(adj.todense())\n",
    "print('adj df shape', adjDf.shape)"
   ]
  },
  {
   "cell_type": "code",
   "execution_count": 582,
   "id": "886ad642",
   "metadata": {},
   "outputs": [
    {
     "name": "stdout",
     "output_type": "stream",
     "text": [
      "     chromosome  jaccard_similarity  converted pval\n",
      "0          16.0            0.002947              80\n",
      "1          15.0            0.012022              90\n",
      "2           1.0            0.002709              60\n",
      "3           7.0            0.002951              60\n",
      "4          10.0            0.012946              90\n",
      "..          ...                 ...             ...\n",
      "761         7.0            0.000737              80\n",
      "762         7.0            0.004177              90\n",
      "763        18.0            0.002464              80\n",
      "764        19.0            0.001723              80\n",
      "765         1.0            0.000493             100\n",
      "\n",
      "[766 rows x 3 columns]\n"
     ]
    }
   ],
   "source": [
    "# drop node_id column\n",
    "nodesSelectedCols = nodesSelectedCols.drop('id', axis=1).reset_index(drop=True)\n",
    "print(nodesSelectedCols)"
   ]
  },
  {
   "cell_type": "code",
   "execution_count": 583,
   "id": "ecf80883",
   "metadata": {},
   "outputs": [
    {
     "name": "stdout",
     "output_type": "stream",
     "text": [
      "features.shape (766, 769)\n"
     ]
    }
   ],
   "source": [
    "# conbine adj and node attributes\n",
    "features = nodesSelectedCols.join(adjDf)\n",
    "print('features.shape', features.shape)"
   ]
  },
  {
   "cell_type": "code",
   "execution_count": 584,
   "id": "2387d9e3",
   "metadata": {},
   "outputs": [
    {
     "name": "stdout",
     "output_type": "stream",
     "text": [
      "featuresOneHot shape (766, 791)\n"
     ]
    }
   ],
   "source": [
    "# one hot encode chromosome\n",
    "oneHot = pd.get_dummies(features['chromosome'], prefix = 'chromosome')\n",
    "featuresOneHot = features.join(oneHot)\n",
    "featuresOneHot = featuresOneHot.drop('chromosome', axis = 1)\n",
    "\n",
    "print('featuresOneHot shape', featuresOneHot.shape)"
   ]
  },
  {
   "cell_type": "code",
   "execution_count": 586,
   "id": "b20b468f",
   "metadata": {},
   "outputs": [
    {
     "name": "stdout",
     "output_type": "stream",
     "text": [
      "(766, 790) (766,)\n"
     ]
    }
   ],
   "source": [
    "x = featuresOneHot.drop('converted pval', axis=1)\n",
    "y = featuresOneHot['converted pval']\n",
    "print(x.shape, y.shape)"
   ]
  },
  {
   "cell_type": "code",
   "execution_count": 587,
   "id": "9561a368",
   "metadata": {},
   "outputs": [],
   "source": [
    "from sklearn.model_selection import train_test_split\n",
    "\n",
    "x = x.values\n",
    "y = y.values\n",
    "\n",
    "x_train, x_test, y_train, y_test = train_test_split(x, y, random_state=104, test_size=0.25, shuffle=True)"
   ]
  },
  {
   "cell_type": "markdown",
   "id": "b29c9134",
   "metadata": {},
   "source": [
    "# RandomForestRegressor"
   ]
  },
  {
   "cell_type": "code",
   "execution_count": 588,
   "id": "7339d029",
   "metadata": {},
   "outputs": [
    {
     "name": "stdout",
     "output_type": "stream",
     "text": [
      "MSE: 176.41593652068255 RMSE: 13.282166108006727 MAE: 10.995901101490274\n"
     ]
    }
   ],
   "source": [
    "from sklearn.ensemble import RandomForestRegressor\n",
    "from sklearn.metrics import mean_squared_error, mean_absolute_error\n",
    " \n",
    "regressor = RandomForestRegressor(n_estimators=100, random_state=0)\n",
    "regressor.fit(x_train, y_train)\n",
    "\n",
    "y_pred = regressor.predict(x_test)\n",
    "y_pred = pd.Series(y_pred)\n",
    "\n",
    "mse = mean_squared_error(y_test, y_pred)\n",
    "rmse = mse**.5\n",
    "mae = mean_absolute_error(y_test, y_pred)\n",
    "print('MSE:', mse, 'RMSE:', rmse, 'MAE:', mae)"
   ]
  },
  {
   "cell_type": "code",
   "execution_count": 589,
   "id": "8aa79d00",
   "metadata": {},
   "outputs": [
    {
     "data": {
      "text/html": [
       "<div>\n",
       "<style scoped>\n",
       "    .dataframe tbody tr th:only-of-type {\n",
       "        vertical-align: middle;\n",
       "    }\n",
       "\n",
       "    .dataframe tbody tr th {\n",
       "        vertical-align: top;\n",
       "    }\n",
       "\n",
       "    .dataframe thead th {\n",
       "        text-align: right;\n",
       "    }\n",
       "</style>\n",
       "<table border=\"1\" class=\"dataframe\">\n",
       "  <thead>\n",
       "    <tr style=\"text-align: right;\">\n",
       "      <th></th>\n",
       "      <th>actual</th>\n",
       "      <th>predicted</th>\n",
       "    </tr>\n",
       "  </thead>\n",
       "  <tbody>\n",
       "    <tr>\n",
       "      <th>0</th>\n",
       "      <td>60.0</td>\n",
       "      <td>78.550000</td>\n",
       "    </tr>\n",
       "    <tr>\n",
       "      <th>1</th>\n",
       "      <td>80.0</td>\n",
       "      <td>77.973333</td>\n",
       "    </tr>\n",
       "    <tr>\n",
       "      <th>2</th>\n",
       "      <td>70.0</td>\n",
       "      <td>62.000000</td>\n",
       "    </tr>\n",
       "    <tr>\n",
       "      <th>3</th>\n",
       "      <td>80.0</td>\n",
       "      <td>79.702381</td>\n",
       "    </tr>\n",
       "    <tr>\n",
       "      <th>4</th>\n",
       "      <td>80.0</td>\n",
       "      <td>69.895238</td>\n",
       "    </tr>\n",
       "    <tr>\n",
       "      <th>...</th>\n",
       "      <td>...</td>\n",
       "      <td>...</td>\n",
       "    </tr>\n",
       "    <tr>\n",
       "      <th>187</th>\n",
       "      <td>70.0</td>\n",
       "      <td>85.676667</td>\n",
       "    </tr>\n",
       "    <tr>\n",
       "      <th>188</th>\n",
       "      <td>80.0</td>\n",
       "      <td>76.520451</td>\n",
       "    </tr>\n",
       "    <tr>\n",
       "      <th>189</th>\n",
       "      <td>90.0</td>\n",
       "      <td>87.305952</td>\n",
       "    </tr>\n",
       "    <tr>\n",
       "      <th>190</th>\n",
       "      <td>100.0</td>\n",
       "      <td>74.715000</td>\n",
       "    </tr>\n",
       "    <tr>\n",
       "      <th>191</th>\n",
       "      <td>60.0</td>\n",
       "      <td>84.359048</td>\n",
       "    </tr>\n",
       "  </tbody>\n",
       "</table>\n",
       "<p>192 rows × 2 columns</p>\n",
       "</div>"
      ],
      "text/plain": [
       "     actual  predicted\n",
       "0      60.0  78.550000\n",
       "1      80.0  77.973333\n",
       "2      70.0  62.000000\n",
       "3      80.0  79.702381\n",
       "4      80.0  69.895238\n",
       "..      ...        ...\n",
       "187    70.0  85.676667\n",
       "188    80.0  76.520451\n",
       "189    90.0  87.305952\n",
       "190   100.0  74.715000\n",
       "191    60.0  84.359048\n",
       "\n",
       "[192 rows x 2 columns]"
      ]
     },
     "execution_count": 589,
     "metadata": {},
     "output_type": "execute_result"
    }
   ],
   "source": [
    "actualVsPred = np.stack((y_test, y_pred), axis=1)\n",
    "actualVsPred = pd.DataFrame(actualVsPred, columns = ['actual','predicted'])\n",
    "actualVsPred"
   ]
  },
  {
   "cell_type": "markdown",
   "id": "94870f94",
   "metadata": {},
   "source": [
    "# XGBRegressor"
   ]
  },
  {
   "cell_type": "code",
   "execution_count": 590,
   "id": "0103c2f3",
   "metadata": {},
   "outputs": [
    {
     "name": "stdout",
     "output_type": "stream",
     "text": [
      "MSE: 192.25269824339694 RMSE: 13.865521924666123 MAE: 11.373734712600708\n"
     ]
    }
   ],
   "source": [
    "from xgboost.sklearn import XGBRegressor\n",
    "\n",
    "regressor = XGBRegressor(n_estimators=100, random_state=0)\n",
    "regressor.fit(x_train, y_train)\n",
    "\n",
    "y_pred = regressor.predict(x_test)\n",
    "y_pred = pd.Series(y_pred)\n",
    "\n",
    "mse = mean_squared_error(y_test, y_pred)\n",
    "rmse = mse**.5\n",
    "mae = mean_absolute_error(y_test, y_pred)\n",
    "print('MSE:', mse, 'RMSE:', rmse, 'MAE:', mae)"
   ]
  },
  {
   "cell_type": "code",
   "execution_count": 200,
   "id": "9ee5b57e",
   "metadata": {},
   "outputs": [
    {
     "data": {
      "text/html": [
       "<div>\n",
       "<style scoped>\n",
       "    .dataframe tbody tr th:only-of-type {\n",
       "        vertical-align: middle;\n",
       "    }\n",
       "\n",
       "    .dataframe tbody tr th {\n",
       "        vertical-align: top;\n",
       "    }\n",
       "\n",
       "    .dataframe thead th {\n",
       "        text-align: right;\n",
       "    }\n",
       "</style>\n",
       "<table border=\"1\" class=\"dataframe\">\n",
       "  <thead>\n",
       "    <tr style=\"text-align: right;\">\n",
       "      <th></th>\n",
       "      <th>actual</th>\n",
       "      <th>predicted</th>\n",
       "    </tr>\n",
       "  </thead>\n",
       "  <tbody>\n",
       "    <tr>\n",
       "      <th>0</th>\n",
       "      <td>5.000000e-08</td>\n",
       "      <td>0.000001</td>\n",
       "    </tr>\n",
       "    <tr>\n",
       "      <th>1</th>\n",
       "      <td>2.000000e-09</td>\n",
       "      <td>0.000001</td>\n",
       "    </tr>\n",
       "    <tr>\n",
       "      <th>2</th>\n",
       "      <td>3.000000e-07</td>\n",
       "      <td>0.000001</td>\n",
       "    </tr>\n",
       "    <tr>\n",
       "      <th>3</th>\n",
       "      <td>7.000000e-09</td>\n",
       "      <td>0.000001</td>\n",
       "    </tr>\n",
       "    <tr>\n",
       "      <th>4</th>\n",
       "      <td>5.000000e-06</td>\n",
       "      <td>0.000001</td>\n",
       "    </tr>\n",
       "    <tr>\n",
       "      <th>...</th>\n",
       "      <td>...</td>\n",
       "      <td>...</td>\n",
       "    </tr>\n",
       "    <tr>\n",
       "      <th>234</th>\n",
       "      <td>3.000000e-08</td>\n",
       "      <td>0.000001</td>\n",
       "    </tr>\n",
       "    <tr>\n",
       "      <th>235</th>\n",
       "      <td>1.000000e-06</td>\n",
       "      <td>0.000001</td>\n",
       "    </tr>\n",
       "    <tr>\n",
       "      <th>236</th>\n",
       "      <td>1.000000e-06</td>\n",
       "      <td>0.000001</td>\n",
       "    </tr>\n",
       "    <tr>\n",
       "      <th>237</th>\n",
       "      <td>4.000000e-07</td>\n",
       "      <td>0.000001</td>\n",
       "    </tr>\n",
       "    <tr>\n",
       "      <th>238</th>\n",
       "      <td>3.000000e-06</td>\n",
       "      <td>0.000001</td>\n",
       "    </tr>\n",
       "  </tbody>\n",
       "</table>\n",
       "<p>239 rows × 2 columns</p>\n",
       "</div>"
      ],
      "text/plain": [
       "           actual  predicted\n",
       "0    5.000000e-08   0.000001\n",
       "1    2.000000e-09   0.000001\n",
       "2    3.000000e-07   0.000001\n",
       "3    7.000000e-09   0.000001\n",
       "4    5.000000e-06   0.000001\n",
       "..            ...        ...\n",
       "234  3.000000e-08   0.000001\n",
       "235  1.000000e-06   0.000001\n",
       "236  1.000000e-06   0.000001\n",
       "237  4.000000e-07   0.000001\n",
       "238  3.000000e-06   0.000001\n",
       "\n",
       "[239 rows x 2 columns]"
      ]
     },
     "execution_count": 200,
     "metadata": {},
     "output_type": "execute_result"
    }
   ],
   "source": [
    "actualVsPred = np.stack((y_test, y_pred), axis=1)\n",
    "actualVsPred = pd.DataFrame(actualVsPred, columns = ['actual','predicted'])\n",
    "actualVsPred"
   ]
  },
  {
   "cell_type": "code",
   "execution_count": null,
   "id": "a769494b",
   "metadata": {},
   "outputs": [],
   "source": []
  }
 ],
 "metadata": {
  "kernelspec": {
   "display_name": "Python 3 (ipykernel)",
   "language": "python",
   "name": "python3"
  },
  "language_info": {
   "codemirror_mode": {
    "name": "ipython",
    "version": 3
   },
   "file_extension": ".py",
   "mimetype": "text/x-python",
   "name": "python",
   "nbconvert_exporter": "python",
   "pygments_lexer": "ipython3",
   "version": "3.8.16"
  }
 },
 "nbformat": 4,
 "nbformat_minor": 5
}
